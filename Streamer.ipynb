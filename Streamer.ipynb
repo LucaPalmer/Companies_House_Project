{
 "cells": [
  {
   "cell_type": "code",
   "execution_count": null,
   "id": "8075d1e6-3d30-47c7-89e8-ba091916216d",
   "metadata": {},
   "outputs": [],
   "source": [
    "import requests\n",
    "import json\n",
    "import pandas as pd\n",
    "import time\n",
    "import os"
   ]
  },
  {
   "cell_type": "code",
   "execution_count": null,
   "id": "5ca7f9ea-908b-4bef-99e2-5af697d01a2b",
   "metadata": {},
   "outputs": [],
   "source": [
    "os.chdir('/home/lucapalmer98/')"
   ]
  },
  {
   "cell_type": "code",
   "execution_count": null,
   "id": "1272862b-c8e8-46b6-b756-95f932d8b7cf",
   "metadata": {},
   "outputs": [],
   "source": [
    "with requests.get('https://stream.companieshouse.gov.uk/companies', auth = ('632f231e-a1e3-4a92-8d2c-9c0b0e409635',''), stream = True) as r:\n",
    "    if r.status_code == 200:\n",
    "        print(\"Connection OK! Gathering data...\")\n",
    "    with open('output.txt', 'w') as g:\n",
    "        count_check = 0\n",
    "        for line in r.iter_lines():\n",
    "            if line:\n",
    "                decoded_line = line.decode('utf-8')\n",
    "                g.write(str(decoded_line))\n",
    "                g.write(\"\\n\")\n",
    "                count_check +=1\n",
    "                print(\"Record Quantity: \", count_check, end=\"\\r\")\n",
    "                time.sleep(5)"
   ]
  },
  {
   "cell_type": "code",
   "execution_count": null,
   "id": "ecfdcbd4-0b04-4b59-b794-37f74071aeb2",
   "metadata": {},
   "outputs": [],
   "source": []
  }
 ],
 "metadata": {
  "kernelspec": {
   "display_name": "Python 3",
   "language": "python",
   "name": "python3"
  },
  "language_info": {
   "codemirror_mode": {
    "name": "ipython",
    "version": 3
   },
   "file_extension": ".py",
   "mimetype": "text/x-python",
   "name": "python",
   "nbconvert_exporter": "python",
   "pygments_lexer": "ipython3",
   "version": "3.6.13"
  }
 },
 "nbformat": 4,
 "nbformat_minor": 5
}
