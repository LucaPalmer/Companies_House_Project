{
 "cells": [
  {
   "cell_type": "code",
   "execution_count": null,
   "id": "8075d1e6-3d30-47c7-89e8-ba091916216d",
   "metadata": {},
   "outputs": [],
   "source": [
    "import requests\n",
    "import json\n",
    "import pandas as pd\n",
    "import time"
   ]
  },
  {
   "cell_type": "code",
   "execution_count": null,
   "id": "2cb496f9-8c0a-40b6-bdd7-709f091dd986",
   "metadata": {
    "jupyter": {
     "source_hidden": true
    },
    "tags": []
   },
   "outputs": [],
   "source": [
    "#r = requests.get('https://stream.companieshouse.gov.uk/companies', auth = ('632f231e-a1e3-4a92-8d2c-9c0b0e409635',''), stream = True)"
   ]
  },
  {
   "cell_type": "code",
   "execution_count": null,
   "id": "b8c4b819-4302-488e-af3c-44063753e6ec",
   "metadata": {
    "jupyter": {
     "source_hidden": true
    },
    "tags": []
   },
   "outputs": [],
   "source": [
    "#r.status_code"
   ]
  },
  {
   "cell_type": "code",
   "execution_count": null,
   "id": "5b7b18f8-ed53-43fa-8306-6bbe6760437d",
   "metadata": {
    "jupyter": {
     "source_hidden": true
    },
    "tags": []
   },
   "outputs": [],
   "source": [
    "\"\"\"\n",
    "def streamer():\n",
    "    for line in r.iter_lines():\n",
    "        if line:\n",
    "            decoded_line = line.decode('utf-8')\n",
    "            print(json.loads(decoded_line))\n",
    "streamer()\n",
    "\"\"\""
   ]
  },
  {
   "cell_type": "code",
   "execution_count": null,
   "id": "1272862b-c8e8-46b6-b756-95f932d8b7cf",
   "metadata": {
    "tags": []
   },
   "outputs": [],
   "source": [
    "with requests.get('https://stream.companieshouse.gov.uk/companies', auth = ('',''), stream = True) as r:\n",
    "    with open('output_2.txt', 'w') as g:\n",
    "        for line in r.iter_lines():\n",
    "            if line:\n",
    "                decoded_line = line.decode('utf-8')\n",
    "                g.write(str(decoded_line))\n",
    "                g.write(\"\\n\")"
   ]
  }
 ],
 "metadata": {
  "kernelspec": {
   "display_name": "Python_3_Ipykernel",
   "language": "python",
   "name": "python_3_ipykernel"
  },
  "language_info": {
   "codemirror_mode": {
    "name": "ipython",
    "version": 3
   },
   "file_extension": ".py",
   "mimetype": "text/x-python",
   "name": "python",
   "nbconvert_exporter": "python",
   "pygments_lexer": "ipython3",
   "version": "3.8.5"
  }
 },
 "nbformat": 4,
 "nbformat_minor": 5
}
