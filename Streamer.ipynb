{
 "cells": [
  {
   "cell_type": "code",
   "execution_count": null,
   "id": "8075d1e6-3d30-47c7-89e8-ba091916216d",
   "metadata": {},
   "outputs": [],
   "source": [
    "import requests\n",
    "import json\n",
    "import pandas as pd\n",
    "import time"
   ]
  },
  {
   "cell_type": "code",
   "execution_count": null,
   "id": "1272862b-c8e8-46b6-b756-95f932d8b7cf",
   "metadata": {},
   "outputs": [],
   "source": [
    "with requests.get('https://stream.companieshouse.gov.uk/companies', auth = ('',''), stream = True) as r:\n",
    "    with open('output.txt', 'w') as g:\n",
    "        for line in r.iter_lines():\n",
    "            if line:\n",
    "                decoded_line = line.decode('utf-8')\n",
    "                g.write((str(decoded_line)))"
   ]
  }
 ],
 "metadata": {
  "kernelspec": {
   "display_name": "Python_3_Ipykernel",
   "language": "python",
   "name": "python_3_ipykernel"
  },
  "language_info": {
   "codemirror_mode": {
    "name": "ipython",
    "version": 3
   },
   "file_extension": ".py",
   "mimetype": "text/x-python",
   "name": "python",
   "nbconvert_exporter": "python",
   "pygments_lexer": "ipython3",
   "version": "3.8.5"
  }
 },
 "nbformat": 4,
 "nbformat_minor": 5
}
