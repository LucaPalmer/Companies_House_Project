{
 "cells": [
  {
   "cell_type": "code",
   "execution_count": null,
   "id": "8235c188-26b0-4289-8835-14545832bea7",
   "metadata": {},
   "outputs": [],
   "source": [
    "import numpy as np\n",
    "import pandas as pd\n",
    "from sklearn.neighbors import KNeighborsRegressor\n",
    "from sklearn.neighbors import KNeighborsClassifier\n",
    "from sklearn.model_selection import train_test_split\n",
    "from sklearn import metrics"
   ]
  },
  {
   "cell_type": "code",
   "execution_count": null,
   "id": "777b6e73-c54a-434e-8d30-97c08cd68b3f",
   "metadata": {},
   "outputs": [],
   "source": [
    "data = pd.read_csv(r'C:\\Users\\lucap\\viz_df.csv')"
   ]
  },
  {
   "cell_type": "code",
   "execution_count": null,
   "id": "430f5e73-7723-429c-b77a-64e3ad0ec619",
   "metadata": {},
   "outputs": [],
   "source": [
    "data"
   ]
  },
  {
   "cell_type": "code",
   "execution_count": null,
   "id": "c46cd710-75b7-4220-80ac-bef4f395cdad",
   "metadata": {},
   "outputs": [],
   "source": [
    "ml_data = pd.get_dummies(data)"
   ]
  },
  {
   "cell_type": "code",
   "execution_count": null,
   "id": "28234855-b8b9-4418-aa1c-f2775652d75f",
   "metadata": {},
   "outputs": [],
   "source": [
    "acc_day = ml_data['accounts.accounting_reference_date_day']\n",
    "acc_month = ml_data['accounts.accounting_reference_date_month']\n",
    "x = [list(e) for e in zip(acc_day, acc_month)]\n",
    "x = np.array(x)\n",
    "y = np.array(ml_data['confirmation_statement.overdue'])"
   ]
  },
  {
   "cell_type": "code",
   "execution_count": null,
   "id": "e10333d1-86dc-4310-ac75-0cec33cdc90b",
   "metadata": {},
   "outputs": [],
   "source": [
    "x"
   ]
  },
  {
   "cell_type": "code",
   "execution_count": null,
   "id": "3894dc33-0b1b-4f5f-9399-6e2e8c373225",
   "metadata": {},
   "outputs": [],
   "source": [
    "y = y.reshape(-1, 1)"
   ]
  },
  {
   "cell_type": "code",
   "execution_count": null,
   "id": "a8f779f6-211c-4053-8851-165d41743c8d",
   "metadata": {},
   "outputs": [],
   "source": [
    "x"
   ]
  },
  {
   "cell_type": "code",
   "execution_count": null,
   "id": "42f82eb3-c6f4-41c5-ad98-e5c4aca6bb5b",
   "metadata": {},
   "outputs": [],
   "source": [
    "model = KNeighborsClassifier(n_neighbors=5)"
   ]
  },
  {
   "cell_type": "code",
   "execution_count": null,
   "id": "5dbaa5d2-7c1a-4fce-b65a-8e72bf0fe790",
   "metadata": {},
   "outputs": [],
   "source": [
    "x_train, x_test, y_train, y_test = train_test_split(x, y, test_size=0.3, random_state=100)"
   ]
  },
  {
   "cell_type": "code",
   "execution_count": null,
   "id": "1b25c18a-1186-49f4-88e9-f2d83a8b6055",
   "metadata": {},
   "outputs": [],
   "source": [
    "model.fit(x_train, y_train)"
   ]
  },
  {
   "cell_type": "code",
   "execution_count": null,
   "id": "dcafc959-d47c-42af-ba43-4ce2b0a2aec2",
   "metadata": {},
   "outputs": [],
   "source": [
    "model_score = model.score(x, y)\n",
    "print(\"Model Score (r2): \", model.score(x, y))"
   ]
  },
  {
   "cell_type": "code",
   "execution_count": null,
   "id": "18a4f2ed-a100-41cc-8617-8e25174838b7",
   "metadata": {},
   "outputs": [],
   "source": [
    "y_pred = model.predict(x_test)"
   ]
  },
  {
   "cell_type": "code",
   "execution_count": null,
   "id": "9b81c2c1-67f8-425c-956c-50475c396a05",
   "metadata": {},
   "outputs": [],
   "source": [
    "y_test = y_test.flatten()"
   ]
  },
  {
   "cell_type": "code",
   "execution_count": null,
   "id": "c658b70e-02d6-43ee-87a9-2cd5cd9dbb51",
   "metadata": {},
   "outputs": [],
   "source": [
    "comp_df = pd.DataFrame({'actual_value': y_test, 'predicted_value': y_pred})"
   ]
  },
  {
   "cell_type": "code",
   "execution_count": null,
   "id": "026c46eb-87c4-47f7-817e-ca2082146737",
   "metadata": {},
   "outputs": [],
   "source": [
    "comp_df\n"
   ]
  },
  {
   "cell_type": "code",
   "execution_count": null,
   "id": "95acebec-de9b-479d-85ef-e650feb4f873",
   "metadata": {},
   "outputs": [],
   "source": [
    "print(\"Prediction Accuracy: \", metrics.accuracy_score(y_test, y_pred))"
   ]
  },
  {
   "cell_type": "code",
   "execution_count": null,
   "id": "f52dfb70-c4c7-49fa-b618-d1a72c48bb69",
   "metadata": {
    "tags": []
   },
   "outputs": [],
   "source": [
    "for x in range(len(comp_df)):\n",
    "    match_count = 0\n",
    "    if comp_df['actual_value'][x] == comp_df['predicted_value'][x]:\n",
    "        match_count +=1\n",
    "        print(comp_df.iloc[x]) "
   ]
  },
  {
   "cell_type": "code",
   "execution_count": null,
   "id": "bc014874-c0b5-43bf-af04-3e06ffdb8e65",
   "metadata": {},
   "outputs": [],
   "source": [
    "len(comp_df)"
   ]
  },
  {
   "cell_type": "code",
   "execution_count": null,
   "id": "9dcdb62c-5cc1-4477-9659-9c884f4efcaf",
   "metadata": {
    "tags": []
   },
   "outputs": [],
   "source": [
    "match_count = 0\n",
    "\n",
    "for x in range(len(comp_df)):\n",
    "    if comp_df['actual_value'][x] == comp_df['predicted_value'][x]:\n",
    "        match_count +=1\n",
    "\n",
    "#print(\"Overall Test Data Quantity: \", y_test.count())\n",
    "print(\"Quantity of Correct Predictions: \", match_count) "
   ]
  },
  {
   "cell_type": "code",
   "execution_count": null,
   "id": "a7c9fd35-78b4-4a7a-adb6-71fbf88a8fc3",
   "metadata": {},
   "outputs": [],
   "source": [
    "#np.set_printoptions(threshold=sys.maxsize)"
   ]
  }
 ],
 "metadata": {
  "kernelspec": {
   "display_name": "Python 3 (ipykernel)",
   "language": "python",
   "name": "python3"
  },
  "language_info": {
   "codemirror_mode": {
    "name": "ipython",
    "version": 3
   },
   "file_extension": ".py",
   "mimetype": "text/x-python",
   "name": "python",
   "nbconvert_exporter": "python",
   "pygments_lexer": "ipython3",
   "version": "3.7.10"
  },
  "widgets": {
   "application/vnd.jupyter.widget-state+json": {
    "state": {},
    "version_major": 2,
    "version_minor": 0
   }
  }
 },
 "nbformat": 4,
 "nbformat_minor": 5
}
