{
 "cells": [
  {
   "cell_type": "code",
   "execution_count": null,
   "id": "6bc8c596-bd06-4bb1-85ed-f5e347f7a67b",
   "metadata": {},
   "outputs": [],
   "source": [
    "cnx.reconnect()"
   ]
  },
  {
   "cell_type": "code",
   "execution_count": null,
   "id": "a2b3195f-c722-45cd-9787-bb8271653168",
   "metadata": {},
   "outputs": [],
   "source": [
    "cnx.close()"
   ]
  },
  {
   "cell_type": "code",
   "execution_count": null,
   "id": "fb0418dc-2773-4677-97c8-bda359c38214",
   "metadata": {},
   "outputs": [],
   "source": [
    "import keplergl\n",
    "from keplergl import KeplerGl\n",
    "import numpy as np\n",
    "import pandas as pd\n",
    "import mysql.connector"
   ]
  },
  {
   "cell_type": "code",
   "execution_count": null,
   "id": "e6afeb29-93d7-409f-b3d8-bafbc2a16993",
   "metadata": {},
   "outputs": [],
   "source": [
    "postcodes = pd.read_csv(r'')"
   ]
  },
  {
   "cell_type": "code",
   "execution_count": null,
   "id": "c4429920-4c58-443a-89c2-d17a849a52af",
   "metadata": {},
   "outputs": [],
   "source": [
    "cnx = mysql.connector.connect(user='', password='', host='', database='')"
   ]
  },
  {
   "cell_type": "code",
   "execution_count": null,
   "id": "47c59fdc-f59a-47ab-a290-7bc909210a3d",
   "metadata": {},
   "outputs": [],
   "source": [
    "cnx.is_connected()"
   ]
  },
  {
   "cell_type": "code",
   "execution_count": null,
   "id": "e737d98a-212a-4526-b5ce-a1444c674213",
   "metadata": {},
   "outputs": [],
   "source": [
    "cursor = cnx.cursor()"
   ]
  },
  {
   "cell_type": "code",
   "execution_count": null,
   "id": "f9b74859-7e18-47e3-a207-31baab0168ba",
   "metadata": {},
   "outputs": [],
   "source": [
    "table = pd.read_sql(\"\"\"\"\"\", cnx)"
   ]
  },
  {
   "cell_type": "code",
   "execution_count": null,
   "id": "8405ebc6-7b98-4ac4-ac8f-d711ca33f98f",
   "metadata": {},
   "outputs": [],
   "source": [
    "table"
   ]
  },
  {
   "cell_type": "code",
   "execution_count": null,
   "id": "869f6e95-dbc1-4059-9705-f7845fb755a7",
   "metadata": {},
   "outputs": [],
   "source": [
    "postcodes"
   ]
  },
  {
   "cell_type": "code",
   "execution_count": null,
   "id": "e37fa676-96d6-448a-9bb0-796cc01202db",
   "metadata": {},
   "outputs": [],
   "source": [
    "table = pd.merge(table, postcodes, how='', left_on='', right_on='')\n",
    "table = table.drop('', axis=1)"
   ]
  },
  {
   "cell_type": "code",
   "execution_count": null,
   "id": "3e941b5c-2640-46c6-920a-3eb47e4d2748",
   "metadata": {},
   "outputs": [],
   "source": [
    "table"
   ]
  },
  {
   "cell_type": "code",
   "execution_count": null,
   "id": "ea2214ae-d2d0-4ccf-a0e8-7dad79d71e63",
   "metadata": {
    "tags": []
   },
   "outputs": [],
   "source": [
    "map_1 = KeplerGl()\n",
    "map_1"
   ]
  },
  {
   "cell_type": "code",
   "execution_count": null,
   "id": "80d058aa-5c80-40b3-95d5-49dadd11c85b",
   "metadata": {},
   "outputs": [],
   "source": [
    "map_1.add_data(data=table, name='test')"
   ]
  },
  {
   "cell_type": "code",
   "execution_count": null,
   "id": "75f43fba-dcfa-42b0-8148-5b494bbc888b",
   "metadata": {},
   "outputs": [],
   "source": []
  }
 ],
 "metadata": {
  "kernelspec": {
   "display_name": "Python 3",
   "language": "python",
   "name": "python3"
  },
  "language_info": {
   "codemirror_mode": {
    "name": "ipython",
    "version": 3
   },
   "file_extension": ".py",
   "mimetype": "text/x-python",
   "name": "python",
   "nbconvert_exporter": "python",
   "pygments_lexer": "ipython3",
   "version": "3.6.13"
  }
 },
 "nbformat": 4,
 "nbformat_minor": 5
}
