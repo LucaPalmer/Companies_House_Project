{
 "cells": [
  {
   "cell_type": "code",
   "execution_count": null,
   "id": "6570a7ee-0f77-455a-9921-3124f3d55087",
   "metadata": {},
   "outputs": [],
   "source": [
    "import requests\n",
    "import json\n",
    "#import chwrapper\n",
    "import pandas as pd\n",
    "import os\n",
    "import subprocess"
   ]
  },
  {
   "cell_type": "code",
   "execution_count": null,
   "id": "5e2599d1-647e-42bd-99cd-fe74b2abc26a",
   "metadata": {},
   "outputs": [],
   "source": [
    "os.chdir('/home/lucapalmer98/project/csvs')"
   ]
  },
  {
   "cell_type": "code",
   "execution_count": null,
   "id": "6ce7c085-d1b3-47d1-87f9-d643b7d1fe78",
   "metadata": {},
   "outputs": [],
   "source": [
    "filename = str(input('Enter a json filename to load (must end in .txt)'))\n",
    "filepath = '/home/lucapalmer98/project/jsons/' + filename"
   ]
  },
  {
   "cell_type": "code",
   "execution_count": null,
   "id": "9a66e3d4-f8ca-48a0-be7f-6eb7fe789b30",
   "metadata": {},
   "outputs": [],
   "source": [
    "print(\"Your filepath: \", filepath)"
   ]
  },
  {
   "cell_type": "code",
   "execution_count": null,
   "id": "8786a996-a586-479c-85ba-540fcf366e43",
   "metadata": {},
   "outputs": [],
   "source": [
    "with open(filepath) as f:\n",
    "    lines = f.readlines()"
   ]
  },
  {
   "cell_type": "code",
   "execution_count": null,
   "id": "0aad1420-368b-4726-a2af-74077cb89370",
   "metadata": {},
   "outputs": [],
   "source": [
    "container = []\n",
    "for x in range(len(lines)):\n",
    "    container.append(json.loads(lines[x]))"
   ]
  },
  {
   "cell_type": "code",
   "execution_count": null,
   "id": "1131dd62-940d-4b8b-9c49-886287e82fc9",
   "metadata": {
    "tags": []
   },
   "outputs": [],
   "source": [
    "container[1]"
   ]
  },
  {
   "cell_type": "code",
   "execution_count": null,
   "id": "08fa7660-deb7-46b3-a6a8-80a2cdeb52d6",
   "metadata": {},
   "outputs": [],
   "source": [
    "#jsons = pd.DataFrame(container)\n",
    "#jsons = jsons['data']"
   ]
  },
  {
   "cell_type": "code",
   "execution_count": null,
   "id": "d80e71dd-50dc-4fbe-9604-e3d13a843aab",
   "metadata": {},
   "outputs": [],
   "source": [
    "jsons = []\n",
    "for x in range(len(container)):\n",
    "    jsons.append(container[x]['data'])"
   ]
  },
  {
   "cell_type": "code",
   "execution_count": null,
   "id": "eafc2c79-5af8-49a7-801b-effe420cbaca",
   "metadata": {},
   "outputs": [],
   "source": [
    "jsons_df = pd.json_normalize(jsons)\n",
    "jsons_df['sic_codes'] = jsons_df['sic_codes'].str[0]"
   ]
  },
  {
   "cell_type": "code",
   "execution_count": null,
   "id": "38af5d1d-1b8c-4eb6-a535-c4af23b25d6e",
   "metadata": {},
   "outputs": [],
   "source": [
    "# jsons_df.drop(['etag'])"
   ]
  },
  {
   "cell_type": "code",
   "execution_count": null,
   "id": "db29502a-5b0b-4553-84e7-06426ee8c45e",
   "metadata": {},
   "outputs": [],
   "source": [
    "jsons_df"
   ]
  },
  {
   "cell_type": "code",
   "execution_count": null,
   "id": "2c79816a-1ce5-49ab-b481-13d6c4813bbc",
   "metadata": {},
   "outputs": [],
   "source": [
    "#jsons_df.iloc[1:3] # Get records by row number"
   ]
  },
  {
   "cell_type": "code",
   "execution_count": null,
   "id": "81b6e78b-fa69-4b26-a57c-389f99c874e8",
   "metadata": {
    "tags": []
   },
   "outputs": [],
   "source": [
    "column_names = list(jsons_df.columns)\n",
    "column_pos = [jsons_df.columns.get_loc(c) for c in jsons_df.columns if c in jsons_df]\n",
    "\n",
    "column_pos = dict(zip(column_pos, column_names))\n",
    "del(column_names)\n",
    "column_pos"
   ]
  },
  {
   "cell_type": "code",
   "execution_count": null,
   "id": "bc503bf2-afc2-4997-a0d3-ff84b69940a1",
   "metadata": {},
   "outputs": [],
   "source": [
    "cols = [5, 9, 10, 22, 23, 24, 38, 39, 40, 41]"
   ]
  },
  {
   "cell_type": "code",
   "execution_count": null,
   "id": "cc916543-06bc-4908-b7fd-db0fca4340ca",
   "metadata": {},
   "outputs": [],
   "source": [
    "jsons_df.drop(columns = jsons_df.columns[cols],axis=1,inplace=True)"
   ]
  },
  {
   "cell_type": "code",
   "execution_count": null,
   "id": "768f2566-a50a-4068-a1d6-075fc80b06e7",
   "metadata": {},
   "outputs": [],
   "source": [
    "jsons_df"
   ]
  },
  {
   "cell_type": "code",
   "execution_count": null,
   "id": "6f58b972-cf1a-4d7d-9df9-ef5b9f5425f6",
   "metadata": {},
   "outputs": [],
   "source": [
    "filename_2 = str(input('Enter a CSV filename to save (must end in .csv)'))"
   ]
  },
  {
   "cell_type": "code",
   "execution_count": null,
   "id": "ff1c3acc-0877-4d70-a228-df5631218ad7",
   "metadata": {},
   "outputs": [],
   "source": [
    "jsons_df.to_csv(filename_2) "
   ]
  },
  {
   "cell_type": "code",
   "execution_count": null,
   "id": "8eae72be-6ab3-4316-a372-fe091d1fcdee",
   "metadata": {},
   "outputs": [],
   "source": [
    "call = 'gsutil cp /home/lucapalmer98/project/csvs/' + filename_2 + ' gs://ust_bucket'"
   ]
  },
  {
   "cell_type": "code",
   "execution_count": null,
   "id": "37285c4e-e1b2-4151-9fb7-d6d4547e9ac0",
   "metadata": {},
   "outputs": [],
   "source": [
    "call"
   ]
  },
  {
   "cell_type": "code",
   "execution_count": null,
   "id": "5c885efe-8934-4a94-981e-578afe3cc6dc",
   "metadata": {},
   "outputs": [],
   "source": [
    "subprocess.call([call], shell =  True)"
   ]
  }
 ],
 "metadata": {
  "kernelspec": {
   "display_name": "Python 3",
   "language": "python",
   "name": "python3"
  },
  "language_info": {
   "codemirror_mode": {
    "name": "ipython",
    "version": 3
   },
   "file_extension": ".py",
   "mimetype": "text/x-python",
   "name": "python",
   "nbconvert_exporter": "python",
   "pygments_lexer": "ipython3",
   "version": "3.6.13"
  }
 },
 "nbformat": 4,
 "nbformat_minor": 5
}
