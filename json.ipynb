{
 "cells": [
  {
   "cell_type": "code",
   "execution_count": null,
   "id": "46c463d1-0ed2-41bb-8e8c-3ba52c21eac4",
   "metadata": {
    "jupyter": {
     "source_hidden": true
    },
    "tags": []
   },
   "outputs": [],
   "source": [
    "# url = \"https://api.companieshouse.gov.uk/search/companies?q={}\"\n",
    "# query = \"\"\n",
    "# api_key = \"\" - insert your key here"
   ]
  },
  {
   "cell_type": "code",
   "execution_count": null,
   "id": "6570a7ee-0f77-455a-9921-3124f3d55087",
   "metadata": {},
   "outputs": [],
   "source": [
    "import requests\n",
    "import json\n",
    "#import chwrapper\n",
    "import pandas as pd"
   ]
  },
  {
   "cell_type": "code",
   "execution_count": null,
   "id": "fc855391-bd13-4ca1-a790-f25f7e72ee36",
   "metadata": {
    "tags": []
   },
   "outputs": [],
   "source": [
    "def name_search():\n",
    "    s = chwrapper.Search(access_token=\"\")\n",
    "    query = input()\n",
    "    r = s.search_companies(query)\n",
    "    results = r.json()['items']\n",
    "    return results"
   ]
  },
  {
   "cell_type": "code",
   "execution_count": null,
   "id": "097d7d81-f2e4-4d2a-8dcc-ca64652dc75c",
   "metadata": {
    "tags": []
   },
   "outputs": [],
   "source": [
    "def number_search():\n",
    "    s = chwrapper.Search(access_token=\"\")\n",
    "    query = input()\n",
    "    r = s.profile(query)\n",
    "    results = r.json()\n",
    "    return results"
   ]
  },
  {
   "cell_type": "code",
   "execution_count": null,
   "id": "c90b6519-6606-4cb7-9a1c-77d7b22d0a65",
   "metadata": {
    "jupyter": {
     "source_hidden": true
    },
    "tags": []
   },
   "outputs": [],
   "source": [
    "#name_search()"
   ]
  },
  {
   "cell_type": "code",
   "execution_count": null,
   "id": "30fd399e-0da9-4a66-a11e-a94c1729fb5d",
   "metadata": {
    "jupyter": {
     "source_hidden": true
    },
    "tags": []
   },
   "outputs": [],
   "source": [
    "#number_search()"
   ]
  },
  {
   "cell_type": "code",
   "execution_count": null,
   "id": "5af344dc-8f0c-41f5-9140-8a7699a939a5",
   "metadata": {},
   "outputs": [],
   "source": [
    "sic_codes = pd.read_csv(r\"\")"
   ]
  },
  {
   "cell_type": "code",
   "execution_count": null,
   "id": "571c3d64-44f0-4507-8561-d9f2911b1612",
   "metadata": {},
   "outputs": [],
   "source": [
    "sic_codes"
   ]
  },
  {
   "cell_type": "code",
   "execution_count": null,
   "id": "8786a996-a586-479c-85ba-540fcf366e43",
   "metadata": {},
   "outputs": [],
   "source": [
    "with open('') as f:\n",
    "    lines = f.readlines()"
   ]
  },
  {
   "cell_type": "code",
   "execution_count": null,
   "id": "0aad1420-368b-4726-a2af-74077cb89370",
   "metadata": {},
   "outputs": [],
   "source": [
    "container = []\n",
    "for x in range(len(lines)):\n",
    "    container.append(json.loads(lines[x]))"
   ]
  },
  {
   "cell_type": "code",
   "execution_count": null,
   "id": "1131dd62-940d-4b8b-9c49-886287e82fc9",
   "metadata": {
    "tags": []
   },
   "outputs": [],
   "source": [
    "container[1]"
   ]
  },
  {
   "cell_type": "code",
   "execution_count": null,
   "id": "08fa7660-deb7-46b3-a6a8-80a2cdeb52d6",
   "metadata": {},
   "outputs": [],
   "source": [
    "#jsons = pd.DataFrame(container)\n",
    "#jsons = jsons['data']"
   ]
  },
  {
   "cell_type": "code",
   "execution_count": null,
   "id": "d80e71dd-50dc-4fbe-9604-e3d13a843aab",
   "metadata": {},
   "outputs": [],
   "source": [
    "jsons = []\n",
    "for x in range(len(container)):\n",
    "    jsons.append(container[x]['data'])"
   ]
  },
  {
   "cell_type": "code",
   "execution_count": null,
   "id": "eafc2c79-5af8-49a7-801b-effe420cbaca",
   "metadata": {},
   "outputs": [],
   "source": [
    "jsons_df = pd.json_normalize(jsons)\n",
    "jsons_df['sic_codes'] = jsons_df['sic_codes'].str[0]"
   ]
  },
  {
   "cell_type": "code",
   "execution_count": null,
   "id": "db29502a-5b0b-4553-84e7-06426ee8c45e",
   "metadata": {},
   "outputs": [],
   "source": [
    "jsons_df"
   ]
  },
  {
   "cell_type": "code",
   "execution_count": null,
   "id": "f66ec856-513b-44b3-bcd1-a042032a6895",
   "metadata": {
    "tags": []
   },
   "outputs": [],
   "source": [
    "grouped = jsons_df.groupby('sic_codes').count() # This needs to be a pivot table"
   ]
  },
  {
   "cell_type": "code",
   "execution_count": null,
   "id": "e0a09d5a-5583-4f7e-87e1-3c363569aee2",
   "metadata": {},
   "outputs": [],
   "source": [
    "sic_codes"
   ]
  },
  {
   "cell_type": "code",
   "execution_count": null,
   "id": "64d82ab5-43d4-4b2c-93e4-b0944327ff6b",
   "metadata": {},
   "outputs": [],
   "source": [
    "# Group by Sic Code\n",
    "# Merge with sic_code df"
   ]
  }
 ],
 "metadata": {
  "kernelspec": {
   "display_name": "Python 3",
   "language": "python",
   "name": "python3"
  },
  "language_info": {
   "codemirror_mode": {
    "name": "ipython",
    "version": 3
   },
   "file_extension": ".py",
   "mimetype": "text/x-python",
   "name": "python",
   "nbconvert_exporter": "python",
   "pygments_lexer": "ipython3",
   "version": "3.6.13"
  }
 },
 "nbformat": 4,
 "nbformat_minor": 5
}
