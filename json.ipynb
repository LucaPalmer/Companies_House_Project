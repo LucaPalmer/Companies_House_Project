{
 "cells": [
  {
   "cell_type": "code",
   "execution_count": null,
   "id": "46c463d1-0ed2-41bb-8e8c-3ba52c21eac4",
   "metadata": {
    "jupyter": {
     "source_hidden": true
    },
    "tags": []
   },
   "outputs": [],
   "source": [
    "# url = \"https://api.companieshouse.gov.uk/search/companies?q={}\"\n",
    "# query = \"\"\n",
    "# api_key = \"\" - insert your key here"
   ]
  },
  {
   "cell_type": "code",
   "execution_count": null,
   "id": "6570a7ee-0f77-455a-9921-3124f3d55087",
   "metadata": {},
   "outputs": [],
   "source": [
    "import requests\n",
    "import json\n",
    "import chwrapper"
   ]
  },
  {
   "cell_type": "code",
   "execution_count": null,
   "id": "fc855391-bd13-4ca1-a790-f25f7e72ee36",
   "metadata": {},
   "outputs": [],
   "source": [
    "def name_search():\n",
    "    s = chwrapper.Search(access_token=\"\")\n",
    "    query = input()\n",
    "    r = s.search_companies(query)\n",
    "    results = r.json()['items']\n",
    "    return results"
   ]
  },
  {
   "cell_type": "code",
   "execution_count": null,
   "id": "097d7d81-f2e4-4d2a-8dcc-ca64652dc75c",
   "metadata": {},
   "outputs": [],
   "source": [
    "def number_search():\n",
    "    s = chwrapper.Search(access_token=\"\")\n",
    "    query = input()\n",
    "    r = s.profile(query)\n",
    "    results = r.json()\n",
    "    return results"
   ]
  },
  {
   "cell_type": "code",
   "execution_count": null,
   "id": "c90b6519-6606-4cb7-9a1c-77d7b22d0a65",
   "metadata": {
    "tags": []
   },
   "outputs": [],
   "source": [
    "#name_search()"
   ]
  },
  {
   "cell_type": "code",
   "execution_count": null,
   "id": "30fd399e-0da9-4a66-a11e-a94c1729fb5d",
   "metadata": {},
   "outputs": [],
   "source": [
    "#number_search()"
   ]
  },
  {
   "cell_type": "code",
   "execution_count": null,
   "id": "8786a996-a586-479c-85ba-540fcf366e43",
   "metadata": {},
   "outputs": [],
   "source": [
    "with open('/home/luca/output_2.txt') as f:\n",
    "    lines = f.readlines()"
   ]
  },
  {
   "cell_type": "code",
   "execution_count": null,
   "id": "0aad1420-368b-4726-a2af-74077cb89370",
   "metadata": {},
   "outputs": [],
   "source": [
    "container = []\n",
    "for x in range(len(lines)):\n",
    "    container.append(json.loads(lines[x]))"
   ]
  },
  {
   "cell_type": "code",
   "execution_count": null,
   "id": "1131dd62-940d-4b8b-9c49-886287e82fc9",
   "metadata": {
    "tags": []
   },
   "outputs": [],
   "source": [
    "container"
   ]
  },
  {
   "cell_type": "code",
   "execution_count": null,
   "id": "08fa7660-deb7-46b3-a6a8-80a2cdeb52d6",
   "metadata": {},
   "outputs": [],
   "source": [
    "container[1]['data']"
   ]
  },
  {
   "cell_type": "code",
   "execution_count": null,
   "id": "571c3d64-44f0-4507-8561-d9f2911b1612",
   "metadata": {},
   "outputs": [],
   "source": []
  }
 ],
 "metadata": {
  "kernelspec": {
   "display_name": "Python 3",
   "language": "python",
   "name": "python3"
  },
  "language_info": {
   "codemirror_mode": {
    "name": "ipython",
    "version": 3
   },
   "file_extension": ".py",
   "mimetype": "text/x-python",
   "name": "python",
   "nbconvert_exporter": "python",
   "pygments_lexer": "ipython3",
   "version": "3.6.13"
  }
 },
 "nbformat": 4,
 "nbformat_minor": 5
}
